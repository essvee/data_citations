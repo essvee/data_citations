{
 "cells": [
  {
   "cell_type": "code",
   "execution_count": 1,
   "metadata": {},
   "outputs": [],
   "source": [
    "import pandas as pd  \n",
    "import numpy as np  \n",
    "import matplotlib.pyplot as plt  \n",
    "import seaborn as seabornInstance \n",
    "import requests\n",
    "from sklearn.model_selection import train_test_split \n",
    "from sklearn.linear_model import LinearRegression\n",
    "from sklearn import metrics\n",
    "%matplotlib inline"
   ]
  },
  {
   "cell_type": "markdown",
   "metadata": {},
   "source": [
    "## GBIF data citations"
   ]
  },
  {
   "cell_type": "markdown",
   "metadata": {},
   "source": [
    "#### Load"
   ]
  },
  {
   "cell_type": "code",
   "execution_count": 2,
   "metadata": {},
   "outputs": [],
   "source": [
    "# Get citation data from GBIF API\n",
    "r = requests.get(url=\"https://www.gbif.org/api/resource/search?contentType=literature&limit=700&gbifDatasetKey=7e380070-f762-11e1-a439-00145eb45e9a\")\n",
    "data = r.json()\n",
    "df = pd.DataFrame(data['results'])"
   ]
  },
  {
   "cell_type": "markdown",
   "metadata": {},
   "source": [
    "#### Clean"
   ]
  },
  {
   "cell_type": "code",
   "execution_count": 3,
   "metadata": {},
   "outputs": [
    {
     "data": {
      "text/html": [
       "<div>\n",
       "<style scoped>\n",
       "    .dataframe tbody tr th:only-of-type {\n",
       "        vertical-align: middle;\n",
       "    }\n",
       "\n",
       "    .dataframe tbody tr th {\n",
       "        vertical-align: top;\n",
       "    }\n",
       "\n",
       "    .dataframe thead th {\n",
       "        text-align: right;\n",
       "    }\n",
       "</style>\n",
       "<table border=\"1\" class=\"dataframe\">\n",
       "  <thead>\n",
       "    <tr style=\"text-align: right;\">\n",
       "      <th></th>\n",
       "      <th>title</th>\n",
       "      <th>authors</th>\n",
       "      <th>year</th>\n",
       "      <th>source</th>\n",
       "      <th>identifiers</th>\n",
       "      <th>keywords</th>\n",
       "      <th>websites</th>\n",
       "      <th>month</th>\n",
       "      <th>publisher</th>\n",
       "      <th>day</th>\n",
       "      <th>...</th>\n",
       "      <th>issue</th>\n",
       "      <th>editors</th>\n",
       "      <th>sourceType</th>\n",
       "      <th>city</th>\n",
       "      <th>institution</th>\n",
       "      <th>department</th>\n",
       "      <th>code</th>\n",
       "      <th>genre</th>\n",
       "      <th>date</th>\n",
       "      <th>monthname</th>\n",
       "    </tr>\n",
       "  </thead>\n",
       "  <tbody>\n",
       "    <tr>\n",
       "      <th>0</th>\n",
       "      <td>A new species of Cypris (Crustacea: Ostracoda)...</td>\n",
       "      <td>[{'firstName': 'FRANCESC', 'lastName': 'MESQUI...</td>\n",
       "      <td>2020</td>\n",
       "      <td>Zootaxa</td>\n",
       "      <td>{'doi': '10.11646/zootaxa.4759.1.8'}</td>\n",
       "      <td>[Crustacea, Cypris, Ostracoda, distribution, i...</td>\n",
       "      <td>[https://doi.org/10.11646/zootaxa.4759.1.8]</td>\n",
       "      <td>4.0</td>\n",
       "      <td>Magnolia Press</td>\n",
       "      <td>1.0</td>\n",
       "      <td>...</td>\n",
       "      <td>NaN</td>\n",
       "      <td>NaN</td>\n",
       "      <td>NaN</td>\n",
       "      <td>NaN</td>\n",
       "      <td>NaN</td>\n",
       "      <td>NaN</td>\n",
       "      <td>NaN</td>\n",
       "      <td>NaN</td>\n",
       "      <td>2020-04-01</td>\n",
       "      <td>April</td>\n",
       "    </tr>\n",
       "    <tr>\n",
       "      <th>1</th>\n",
       "      <td>How reliable are species identifications in bi...</td>\n",
       "      <td>[{'firstName': 'Tiago M. S.', 'lastName': 'Fre...</td>\n",
       "      <td>2020</td>\n",
       "      <td>Systematics and Biodiversity</td>\n",
       "      <td>{'doi': '10.1080/14772000.2020.1730473'}</td>\n",
       "      <td>[Auchenipteridae fishes, GBIF, Link, Linnean s...</td>\n",
       "      <td>[https://doi.org/10.1080/14772000.2020.1730473]</td>\n",
       "      <td>4.0</td>\n",
       "      <td>Informa UK Limited</td>\n",
       "      <td>3.0</td>\n",
       "      <td>...</td>\n",
       "      <td>NaN</td>\n",
       "      <td>NaN</td>\n",
       "      <td>NaN</td>\n",
       "      <td>NaN</td>\n",
       "      <td>NaN</td>\n",
       "      <td>NaN</td>\n",
       "      <td>NaN</td>\n",
       "      <td>NaN</td>\n",
       "      <td>2020-04-03</td>\n",
       "      <td>April</td>\n",
       "    </tr>\n",
       "  </tbody>\n",
       "</table>\n",
       "<p>2 rows × 58 columns</p>\n",
       "</div>"
      ],
      "text/plain": [
       "                                               title  \\\n",
       "0  A new species of Cypris (Crustacea: Ostracoda)...   \n",
       "1  How reliable are species identifications in bi...   \n",
       "\n",
       "                                             authors  year  \\\n",
       "0  [{'firstName': 'FRANCESC', 'lastName': 'MESQUI...  2020   \n",
       "1  [{'firstName': 'Tiago M. S.', 'lastName': 'Fre...  2020   \n",
       "\n",
       "                         source                               identifiers  \\\n",
       "0                       Zootaxa      {'doi': '10.11646/zootaxa.4759.1.8'}   \n",
       "1  Systematics and Biodiversity  {'doi': '10.1080/14772000.2020.1730473'}   \n",
       "\n",
       "                                            keywords  \\\n",
       "0  [Crustacea, Cypris, Ostracoda, distribution, i...   \n",
       "1  [Auchenipteridae fishes, GBIF, Link, Linnean s...   \n",
       "\n",
       "                                          websites  month           publisher  \\\n",
       "0      [https://doi.org/10.11646/zootaxa.4759.1.8]    4.0      Magnolia Press   \n",
       "1  [https://doi.org/10.1080/14772000.2020.1730473]    4.0  Informa UK Limited   \n",
       "\n",
       "   day  ... issue editors sourceType city  institution  department  code  \\\n",
       "0  1.0  ...   NaN     NaN        NaN  NaN          NaN         NaN   NaN   \n",
       "1  3.0  ...   NaN     NaN        NaN  NaN          NaN         NaN   NaN   \n",
       "\n",
       "   genre       date monthname  \n",
       "0    NaN 2020-04-01     April  \n",
       "1    NaN 2020-04-03     April  \n",
       "\n",
       "[2 rows x 58 columns]"
      ]
     },
     "execution_count": 3,
     "metadata": {},
     "output_type": "execute_result"
    }
   ],
   "source": [
    "# Check nulls in useful fields\n",
    "df[['month', 'day', 'year', 'peerReview', 'literatureType']].isna().sum()\n",
    "\n",
    "# Filter out non-paper and non-peer-reviewed papers\n",
    "df = df[(df['peerReview']) & (df['literatureType'] == 'journal')]\n",
    "\n",
    "# Fill nulls: we don't care about the day so arbitrarily set to 1. Month set to median\n",
    "median_month = int(df[['month']].median())\n",
    "df.fillna(value={'day' : 1.0, 'month' : median_month}, inplace=True)\n",
    "\n",
    "# Map numeric months to month names + add nominal date field\n",
    "# df['monthname'] = df['month'].map(month_names)\n",
    "df['date'] = pd.to_datetime(df[['year', 'month', 'day']])\n",
    "df['monthname'] = df['date'].dt.month_name()\n",
    "df.head(2)"
   ]
  },
  {
   "cell_type": "markdown",
   "metadata": {},
   "source": [
    "#### Aggregation"
   ]
  },
  {
   "cell_type": "code",
   "execution_count": 4,
   "metadata": {},
   "outputs": [
    {
     "data": {
      "text/html": [
       "<div>\n",
       "<style scoped>\n",
       "    .dataframe tbody tr th:only-of-type {\n",
       "        vertical-align: middle;\n",
       "    }\n",
       "\n",
       "    .dataframe tbody tr th {\n",
       "        vertical-align: top;\n",
       "    }\n",
       "\n",
       "    .dataframe thead th {\n",
       "        text-align: right;\n",
       "    }\n",
       "</style>\n",
       "<table border=\"1\" class=\"dataframe\">\n",
       "  <thead>\n",
       "    <tr style=\"text-align: right;\">\n",
       "      <th></th>\n",
       "      <th></th>\n",
       "      <th></th>\n",
       "      <th>paper_count</th>\n",
       "    </tr>\n",
       "    <tr>\n",
       "      <th>year</th>\n",
       "      <th>month</th>\n",
       "      <th>monthname</th>\n",
       "      <th></th>\n",
       "    </tr>\n",
       "  </thead>\n",
       "  <tbody>\n",
       "    <tr>\n",
       "      <th>2015</th>\n",
       "      <th>1.0</th>\n",
       "      <th>January</th>\n",
       "      <td>1</td>\n",
       "    </tr>\n",
       "    <tr>\n",
       "      <th rowspan=\"4\" valign=\"top\">2016</th>\n",
       "      <th>3.0</th>\n",
       "      <th>March</th>\n",
       "      <td>1</td>\n",
       "    </tr>\n",
       "    <tr>\n",
       "      <th>6.0</th>\n",
       "      <th>June</th>\n",
       "      <td>2</td>\n",
       "    </tr>\n",
       "    <tr>\n",
       "      <th>7.0</th>\n",
       "      <th>July</th>\n",
       "      <td>3</td>\n",
       "    </tr>\n",
       "    <tr>\n",
       "      <th>8.0</th>\n",
       "      <th>August</th>\n",
       "      <td>1</td>\n",
       "    </tr>\n",
       "  </tbody>\n",
       "</table>\n",
       "</div>"
      ],
      "text/plain": [
       "                      paper_count\n",
       "year month monthname             \n",
       "2015 1.0   January              1\n",
       "2016 3.0   March                1\n",
       "     6.0   June                 2\n",
       "     7.0   July                 3\n",
       "     8.0   August               1"
      ]
     },
     "execution_count": 4,
     "metadata": {},
     "output_type": "execute_result"
    }
   ],
   "source": [
    "# Counts per monthyear\n",
    "monthly_aggs = df.groupby(['year', 'month', 'monthname'])\n",
    "monthly_count = monthly_aggs.size()\n",
    "\n",
    "# Convert to dataframe\n",
    "monthly_df = pd.DataFrame(monthly_count, columns=['paper_count'])\n",
    "monthly_df.head()"
   ]
  },
  {
   "cell_type": "markdown",
   "metadata": {},
   "source": [
    "#### Create date index\n",
    "Build a complete, month-level date index for the period between first paper published and the current month. \n",
    "Goal is to identify and fill months where 0 papers were published."
   ]
  },
  {
   "cell_type": "code",
   "execution_count": 5,
   "metadata": {},
   "outputs": [
    {
     "data": {
      "text/html": [
       "<div>\n",
       "<style scoped>\n",
       "    .dataframe tbody tr th:only-of-type {\n",
       "        vertical-align: middle;\n",
       "    }\n",
       "\n",
       "    .dataframe tbody tr th {\n",
       "        vertical-align: top;\n",
       "    }\n",
       "\n",
       "    .dataframe thead th {\n",
       "        text-align: right;\n",
       "    }\n",
       "</style>\n",
       "<table border=\"1\" class=\"dataframe\">\n",
       "  <thead>\n",
       "    <tr style=\"text-align: right;\">\n",
       "      <th></th>\n",
       "      <th>year</th>\n",
       "      <th>month</th>\n",
       "      <th>monthname</th>\n",
       "    </tr>\n",
       "  </thead>\n",
       "  <tbody>\n",
       "    <tr>\n",
       "      <th>0</th>\n",
       "      <td>2015</td>\n",
       "      <td>1</td>\n",
       "      <td>January</td>\n",
       "    </tr>\n",
       "    <tr>\n",
       "      <th>1</th>\n",
       "      <td>2015</td>\n",
       "      <td>2</td>\n",
       "      <td>February</td>\n",
       "    </tr>\n",
       "  </tbody>\n",
       "</table>\n",
       "</div>"
      ],
      "text/plain": [
       "   year  month monthname\n",
       "0  2015      1   January\n",
       "1  2015      2  February"
      ]
     },
     "execution_count": 5,
     "metadata": {},
     "output_type": "execute_result"
    }
   ],
   "source": [
    "import datetime\n",
    "\n",
    "# Create a full monthyear index for active period, dates set to monthly intervals\n",
    "all_months = pd.date_range(start=\"01-01-2015\", end=datetime.date.today(), freq='MS')\n",
    "df_date = pd.DataFrame(all_months, columns=['start_of_month'])\n",
    "\n",
    "# Split the dates\n",
    "df_date['year'] = df_date['start_of_month'].dt.year\n",
    "df_date['month'] = df_date['start_of_month'].dt.month\n",
    "df_date['monthname'] = df_date['start_of_month'].dt.month_name()\n",
    "\n",
    "df_date = df_date[['year', 'month', 'monthname']]\n",
    "df_date.head(2)"
   ]
  },
  {
   "cell_type": "markdown",
   "metadata": {},
   "source": [
    "#### Join date spine to GBIF data"
   ]
  },
  {
   "cell_type": "code",
   "execution_count": 6,
   "metadata": {
    "scrolled": false
   },
   "outputs": [
    {
     "data": {
      "text/plain": [
       "year  month  monthname\n",
       "2015  1      January      1.0\n",
       "      2      February     0.0\n",
       "      3      March        0.0\n",
       "      4      April        0.0\n",
       "      5      May          0.0\n",
       "Name: paper_count, dtype: float64"
      ]
     },
     "execution_count": 6,
     "metadata": {},
     "output_type": "execute_result"
    }
   ],
   "source": [
    "# create multi-level index in the same shape as the gbif data (there must be an easier way than this, can you do during timeindex creation?)\n",
    "mi = pd.MultiIndex.from_frame(df_date)\n",
    "\n",
    "# Left join index to monthly paper counts\n",
    "gbif_paper_history = pd.concat([pd.Series(index=mi, dtype='datetime64[ns]'), monthly_df], axis=1)['paper_count']\n",
    "\n",
    "# fill null counts with 0\n",
    "null_paper_bool = gbif_paper_history.isnull()\n",
    "gbif_paper_history.loc[null_paper_bool] = 0.0\n",
    "gbif_paper_history.head()"
   ]
  },
  {
   "cell_type": "markdown",
   "metadata": {},
   "source": [
    "## Portal record counts"
   ]
  },
  {
   "cell_type": "markdown",
   "metadata": {},
   "source": [
    "#### Load"
   ]
  },
  {
   "cell_type": "code",
   "execution_count": 7,
   "metadata": {},
   "outputs": [
    {
     "data": {
      "text/plain": [
       "dict_keys(['help', 'success', 'result'])"
      ]
     },
     "execution_count": 7,
     "metadata": {},
     "output_type": "execute_result"
    }
   ],
   "source": [
    "# Retrieve the count of GBIF-eligible records from the DP\n",
    "r = requests.get(url=\"https://data.nhm.ac.uk/api/3/action/datastore_get_resource_versions?resource_id=05ff2255-c38a-40c9-b657-4ccb55ab2feb&filters=%7B%22_exclude_mineralogy%22:true%7D\")\n",
    "dp = r.json()\n",
    "dp.keys()"
   ]
  },
  {
   "cell_type": "markdown",
   "metadata": {},
   "source": [
    "#### Clean"
   ]
  },
  {
   "cell_type": "code",
   "execution_count": 8,
   "metadata": {},
   "outputs": [
    {
     "data": {
      "text/html": [
       "<div>\n",
       "<style scoped>\n",
       "    .dataframe tbody tr th:only-of-type {\n",
       "        vertical-align: middle;\n",
       "    }\n",
       "\n",
       "    .dataframe tbody tr th {\n",
       "        vertical-align: top;\n",
       "    }\n",
       "\n",
       "    .dataframe thead th {\n",
       "        text-align: right;\n",
       "    }\n",
       "</style>\n",
       "<table border=\"1\" class=\"dataframe\">\n",
       "  <thead>\n",
       "    <tr style=\"text-align: right;\">\n",
       "      <th></th>\n",
       "      <th>record_count</th>\n",
       "      <th>version</th>\n",
       "      <th>changes</th>\n",
       "      <th>date</th>\n",
       "      <th>month</th>\n",
       "      <th>year</th>\n",
       "      <th>monthname</th>\n",
       "    </tr>\n",
       "  </thead>\n",
       "  <tbody>\n",
       "    <tr>\n",
       "      <th>0</th>\n",
       "      <td>3150297</td>\n",
       "      <td>1504051200000</td>\n",
       "      <td>3150297</td>\n",
       "      <td>2017-08-30</td>\n",
       "      <td>8</td>\n",
       "      <td>2017</td>\n",
       "      <td>August</td>\n",
       "    </tr>\n",
       "    <tr>\n",
       "      <th>1</th>\n",
       "      <td>3150100</td>\n",
       "      <td>1504396800000</td>\n",
       "      <td>183706</td>\n",
       "      <td>2017-09-03</td>\n",
       "      <td>9</td>\n",
       "      <td>2017</td>\n",
       "      <td>September</td>\n",
       "    </tr>\n",
       "    <tr>\n",
       "      <th>2</th>\n",
       "      <td>3150192</td>\n",
       "      <td>1504656000000</td>\n",
       "      <td>335</td>\n",
       "      <td>2017-09-06</td>\n",
       "      <td>9</td>\n",
       "      <td>2017</td>\n",
       "      <td>September</td>\n",
       "    </tr>\n",
       "  </tbody>\n",
       "</table>\n",
       "</div>"
      ],
      "text/plain": [
       "   record_count        version  changes       date  month  year  monthname\n",
       "0       3150297  1504051200000  3150297 2017-08-30      8  2017     August\n",
       "1       3150100  1504396800000   183706 2017-09-03      9  2017  September\n",
       "2       3150192  1504656000000      335 2017-09-06      9  2017  September"
      ]
     },
     "execution_count": 8,
     "metadata": {},
     "output_type": "execute_result"
    }
   ],
   "source": [
    "# Isolate the result list and translate the timestamp\n",
    "dp_df = pd.DataFrame(dp['result'])\n",
    "dp_df.rename(columns={'count' : 'record_count'}, inplace=True)\n",
    "dp_df['date'] = pd.to_datetime(dp_df['version'], unit='ms', origin='unix')\n",
    "\n",
    "# Split out date parts to make monthyear matching easier\n",
    "dp_df['month'] = dp_df['date'].dt.month\n",
    "dp_df['year'] = dp_df['date'].dt.year\n",
    "dp_df['monthname'] = dp_df['date'].dt.month_name()\n",
    "\n",
    "dp_df.head(3)"
   ]
  },
  {
   "cell_type": "markdown",
   "metadata": {},
   "source": [
    "#### Aggregations"
   ]
  },
  {
   "cell_type": "code",
   "execution_count": 9,
   "metadata": {},
   "outputs": [
    {
     "data": {
      "text/html": [
       "<div>\n",
       "<style scoped>\n",
       "    .dataframe tbody tr th:only-of-type {\n",
       "        vertical-align: middle;\n",
       "    }\n",
       "\n",
       "    .dataframe tbody tr th {\n",
       "        vertical-align: top;\n",
       "    }\n",
       "\n",
       "    .dataframe thead th {\n",
       "        text-align: right;\n",
       "    }\n",
       "</style>\n",
       "<table border=\"1\" class=\"dataframe\">\n",
       "  <thead>\n",
       "    <tr style=\"text-align: right;\">\n",
       "      <th></th>\n",
       "      <th></th>\n",
       "      <th></th>\n",
       "      <th>year</th>\n",
       "      <th>month</th>\n",
       "      <th>monthname</th>\n",
       "      <th>record_count</th>\n",
       "    </tr>\n",
       "    <tr>\n",
       "      <th>year</th>\n",
       "      <th>month</th>\n",
       "      <th>monthname</th>\n",
       "      <th></th>\n",
       "      <th></th>\n",
       "      <th></th>\n",
       "      <th></th>\n",
       "    </tr>\n",
       "  </thead>\n",
       "  <tbody>\n",
       "    <tr>\n",
       "      <th rowspan=\"5\" valign=\"top\">2017</th>\n",
       "      <th>8</th>\n",
       "      <th>August</th>\n",
       "      <td>2017</td>\n",
       "      <td>8</td>\n",
       "      <td>August</td>\n",
       "      <td>3150297</td>\n",
       "    </tr>\n",
       "    <tr>\n",
       "      <th>9</th>\n",
       "      <th>September</th>\n",
       "      <td>2017</td>\n",
       "      <td>9</td>\n",
       "      <td>September</td>\n",
       "      <td>3154163</td>\n",
       "    </tr>\n",
       "    <tr>\n",
       "      <th>10</th>\n",
       "      <th>October</th>\n",
       "      <td>2017</td>\n",
       "      <td>10</td>\n",
       "      <td>October</td>\n",
       "      <td>3416817</td>\n",
       "    </tr>\n",
       "    <tr>\n",
       "      <th>11</th>\n",
       "      <th>November</th>\n",
       "      <td>2017</td>\n",
       "      <td>11</td>\n",
       "      <td>November</td>\n",
       "      <td>3437828</td>\n",
       "    </tr>\n",
       "    <tr>\n",
       "      <th>12</th>\n",
       "      <th>December</th>\n",
       "      <td>2017</td>\n",
       "      <td>12</td>\n",
       "      <td>December</td>\n",
       "      <td>3439755</td>\n",
       "    </tr>\n",
       "  </tbody>\n",
       "</table>\n",
       "</div>"
      ],
      "text/plain": [
       "                      year  month  monthname  record_count\n",
       "year month monthname                                      \n",
       "2017 8     August     2017      8     August       3150297\n",
       "     9     September  2017      9  September       3154163\n",
       "     10    October    2017     10    October       3416817\n",
       "     11    November   2017     11   November       3437828\n",
       "     12    December   2017     12   December       3439755"
      ]
     },
     "execution_count": 9,
     "metadata": {},
     "output_type": "execute_result"
    }
   ],
   "source": [
    "# Group by month and year columns. Aggregation = max per month\n",
    "dp_monthly_aggs = dp_df.groupby(['year', 'month', 'monthname'])[['year', 'month', 'monthname', 'record_count']]\n",
    "monthly_max = dp_monthly_aggs.max()\n",
    "monthly_max.head()"
   ]
  },
  {
   "cell_type": "markdown",
   "metadata": {},
   "source": [
    "### Join GBIF and Portal data"
   ]
  },
  {
   "cell_type": "code",
   "execution_count": 10,
   "metadata": {
    "scrolled": true
   },
   "outputs": [
    {
     "data": {
      "text/html": [
       "<div>\n",
       "<style scoped>\n",
       "    .dataframe tbody tr th:only-of-type {\n",
       "        vertical-align: middle;\n",
       "    }\n",
       "\n",
       "    .dataframe tbody tr th {\n",
       "        vertical-align: top;\n",
       "    }\n",
       "\n",
       "    .dataframe thead th {\n",
       "        text-align: right;\n",
       "    }\n",
       "</style>\n",
       "<table border=\"1\" class=\"dataframe\">\n",
       "  <thead>\n",
       "    <tr style=\"text-align: right;\">\n",
       "      <th></th>\n",
       "      <th></th>\n",
       "      <th></th>\n",
       "      <th>paper_count</th>\n",
       "      <th>record_count</th>\n",
       "    </tr>\n",
       "    <tr>\n",
       "      <th>year</th>\n",
       "      <th>month</th>\n",
       "      <th>monthname</th>\n",
       "      <th></th>\n",
       "      <th></th>\n",
       "    </tr>\n",
       "  </thead>\n",
       "  <tbody>\n",
       "    <tr>\n",
       "      <th rowspan=\"5\" valign=\"top\">2017</th>\n",
       "      <th>8</th>\n",
       "      <th>August</th>\n",
       "      <td>0.0</td>\n",
       "      <td>3150297.0</td>\n",
       "    </tr>\n",
       "    <tr>\n",
       "      <th>9</th>\n",
       "      <th>September</th>\n",
       "      <td>2.0</td>\n",
       "      <td>3154163.0</td>\n",
       "    </tr>\n",
       "    <tr>\n",
       "      <th>10</th>\n",
       "      <th>October</th>\n",
       "      <td>2.0</td>\n",
       "      <td>3416817.0</td>\n",
       "    </tr>\n",
       "    <tr>\n",
       "      <th>11</th>\n",
       "      <th>November</th>\n",
       "      <td>4.0</td>\n",
       "      <td>3437828.0</td>\n",
       "    </tr>\n",
       "    <tr>\n",
       "      <th>12</th>\n",
       "      <th>December</th>\n",
       "      <td>8.0</td>\n",
       "      <td>3439755.0</td>\n",
       "    </tr>\n",
       "  </tbody>\n",
       "</table>\n",
       "</div>"
      ],
      "text/plain": [
       "                      paper_count  record_count\n",
       "year month monthname                           \n",
       "2017 8     August             0.0     3150297.0\n",
       "     9     September          2.0     3154163.0\n",
       "     10    October            2.0     3416817.0\n",
       "     11    November           4.0     3437828.0\n",
       "     12    December           8.0     3439755.0"
      ]
     },
     "execution_count": 10,
     "metadata": {},
     "output_type": "execute_result"
    }
   ],
   "source": [
    "# Get rid of months without record_count data\n",
    "final_result = pd.concat([gbif_paper_history, monthly_max], sort=False, axis=1).dropna()\n",
    "final_result = final_result[['paper_count', 'record_count']]\n",
    "final_result.head(5)"
   ]
  },
  {
   "cell_type": "markdown",
   "metadata": {},
   "source": [
    "### Plot data"
   ]
  },
  {
   "cell_type": "code",
   "execution_count": 11,
   "metadata": {},
   "outputs": [
    {
     "data": {
      "image/png": "[encoded data removed]",
      "text/plain": [
       "<Figure size 432x288 with 1 Axes>"
      ]
     },
     "metadata": {
      "needs_background": "light"
     },
     "output_type": "display_data"
    }
   ],
   "source": [
    "# Eyeball count of GBIF records against papers published\n",
    "final_result.plot(x='record_count', y='paper_count', style='o')  \n",
    "plt.title('gbif recs vs paper count')  \n",
    "plt.xlabel('GBIF records') \n",
    "plt.ylabel('Papers')  \n",
    "plt.show()"
   ]
  },
  {
   "cell_type": "code",
   "execution_count": 12,
   "metadata": {},
   "outputs": [
    {
     "data": {
      "text/plain": [
       "<matplotlib.axes._subplots.AxesSubplot at 0x27646efa1d0>"
      ]
     },
     "execution_count": 12,
     "metadata": {},
     "output_type": "execute_result"
    },
    {
     "data": {
      "image/png": "[encoded data removed]",
      "text/plain": [
       "<Figure size 1080x288 with 1 Axes>"
      ]
     },
     "metadata": {
      "needs_background": "light"
     },
     "output_type": "display_data"
    }
   ],
   "source": [
    "# Show distribution of monthly citation counts\n",
    "plt.figure(figsize=(15,4))\n",
    "plt.tight_layout()\n",
    "seabornInstance.distplot(final_result['paper_count'])"
   ]
  },
  {
   "cell_type": "markdown",
   "metadata": {},
   "source": [
    "### Regression"
   ]
  },
  {
   "cell_type": "code",
   "execution_count": 13,
   "metadata": {},
   "outputs": [],
   "source": [
    "# Goal: predict X using values of Y\n",
    "X = final_result['record_count'].values.reshape(-1,1)\n",
    "y = final_result['paper_count'].values.reshape(-1,1)"
   ]
  },
  {
   "cell_type": "code",
   "execution_count": 14,
   "metadata": {},
   "outputs": [
    {
     "data": {
      "text/plain": [
       "LinearRegression(copy_X=True, fit_intercept=True, n_jobs=None, normalize=False)"
      ]
     },
     "execution_count": 14,
     "metadata": {},
     "output_type": "execute_result"
    }
   ],
   "source": [
    "# Split into test + training set\n",
    "X_train, X_test, y_train, y_test = train_test_split(X, y, test_size=0.4)\n",
    "regressor = LinearRegression()  \n",
    "regressor.fit(X_train, y_train) # train the algorithm"
   ]
  },
  {
   "cell_type": "code",
   "execution_count": 15,
   "metadata": {},
   "outputs": [
    {
     "name": "stdout",
     "output_type": "stream",
     "text": [
      "[-44.09595176]\n",
      "[[1.44283223e-05]]\n"
     ]
    }
   ],
   "source": [
    "# Retrieve the intercept:\n",
    "print(regressor.intercept_)\n",
    "\n",
    "# Retrieve the slope:\n",
    "print(regressor.coef_)"
   ]
  },
  {
   "cell_type": "code",
   "execution_count": 16,
   "metadata": {},
   "outputs": [],
   "source": [
    "y_pred = regressor.predict(X_test)"
   ]
  },
  {
   "cell_type": "code",
   "execution_count": 17,
   "metadata": {},
   "outputs": [
    {
     "data": {
      "text/html": [
       "<div>\n",
       "<style scoped>\n",
       "    .dataframe tbody tr th:only-of-type {\n",
       "        vertical-align: middle;\n",
       "    }\n",
       "\n",
       "    .dataframe tbody tr th {\n",
       "        vertical-align: top;\n",
       "    }\n",
       "\n",
       "    .dataframe thead th {\n",
       "        text-align: right;\n",
       "    }\n",
       "</style>\n",
       "<table border=\"1\" class=\"dataframe\">\n",
       "  <thead>\n",
       "    <tr style=\"text-align: right;\">\n",
       "      <th></th>\n",
       "      <th>Actual</th>\n",
       "      <th>Predicted</th>\n",
       "    </tr>\n",
       "  </thead>\n",
       "  <tbody>\n",
       "    <tr>\n",
       "      <th>0</th>\n",
       "      <td>9.0</td>\n",
       "      <td>10.262695</td>\n",
       "    </tr>\n",
       "    <tr>\n",
       "      <th>1</th>\n",
       "      <td>1.0</td>\n",
       "      <td>5.944457</td>\n",
       "    </tr>\n",
       "    <tr>\n",
       "      <th>2</th>\n",
       "      <td>5.0</td>\n",
       "      <td>7.041153</td>\n",
       "    </tr>\n",
       "    <tr>\n",
       "      <th>3</th>\n",
       "      <td>17.0</td>\n",
       "      <td>15.393406</td>\n",
       "    </tr>\n",
       "    <tr>\n",
       "      <th>4</th>\n",
       "      <td>7.0</td>\n",
       "      <td>12.186726</td>\n",
       "    </tr>\n",
       "    <tr>\n",
       "      <th>5</th>\n",
       "      <td>2.0</td>\n",
       "      <td>5.202985</td>\n",
       "    </tr>\n",
       "    <tr>\n",
       "      <th>6</th>\n",
       "      <td>16.0</td>\n",
       "      <td>13.431630</td>\n",
       "    </tr>\n",
       "    <tr>\n",
       "      <th>7</th>\n",
       "      <td>4.0</td>\n",
       "      <td>5.506139</td>\n",
       "    </tr>\n",
       "    <tr>\n",
       "      <th>8</th>\n",
       "      <td>22.0</td>\n",
       "      <td>11.715670</td>\n",
       "    </tr>\n",
       "    <tr>\n",
       "      <th>9</th>\n",
       "      <td>19.0</td>\n",
       "      <td>15.592503</td>\n",
       "    </tr>\n",
       "    <tr>\n",
       "      <th>10</th>\n",
       "      <td>25.0</td>\n",
       "      <td>10.513315</td>\n",
       "    </tr>\n",
       "    <tr>\n",
       "      <th>11</th>\n",
       "      <td>12.0</td>\n",
       "      <td>10.952123</td>\n",
       "    </tr>\n",
       "    <tr>\n",
       "      <th>12</th>\n",
       "      <td>11.0</td>\n",
       "      <td>12.364872</td>\n",
       "    </tr>\n",
       "    <tr>\n",
       "      <th>13</th>\n",
       "      <td>30.0</td>\n",
       "      <td>15.978431</td>\n",
       "    </tr>\n",
       "  </tbody>\n",
       "</table>\n",
       "</div>"
      ],
      "text/plain": [
       "    Actual  Predicted\n",
       "0      9.0  10.262695\n",
       "1      1.0   5.944457\n",
       "2      5.0   7.041153\n",
       "3     17.0  15.393406\n",
       "4      7.0  12.186726\n",
       "5      2.0   5.202985\n",
       "6     16.0  13.431630\n",
       "7      4.0   5.506139\n",
       "8     22.0  11.715670\n",
       "9     19.0  15.592503\n",
       "10    25.0  10.513315\n",
       "11    12.0  10.952123\n",
       "12    11.0  12.364872\n",
       "13    30.0  15.978431"
      ]
     },
     "execution_count": 17,
     "metadata": {},
     "output_type": "execute_result"
    }
   ],
   "source": [
    "# compare predicted with actual values\n",
    "comparison = pd.DataFrame({'Actual': y_test.flatten(), 'Predicted': y_pred.flatten()})\n",
    "comparison"
   ]
  },
  {
   "cell_type": "code",
   "execution_count": 18,
   "metadata": {},
   "outputs": [
    {
     "data": {
      "image/png": "[encoded data removed]",
      "text/plain": [
       "<Figure size 1152x720 with 1 Axes>"
      ]
     },
     "metadata": {
      "needs_background": "light"
     },
     "output_type": "display_data"
    }
   ],
   "source": [
    "comparison.plot(kind='bar',figsize=(16,10))\n",
    "plt.grid(which='major', linestyle='-', linewidth='0.5', color='green')\n",
    "plt.grid(which='minor', linestyle=':', linewidth='0.5', color='black')\n",
    "plt.show()"
   ]
  },
  {
   "cell_type": "code",
   "execution_count": 19,
   "metadata": {},
   "outputs": [
    {
     "data": {
      "image/png": "[encoded data removed]",
      "text/plain": [
       "<Figure size 432x288 with 1 Axes>"
      ]
     },
     "metadata": {
      "needs_background": "light"
     },
     "output_type": "display_data"
    }
   ],
   "source": [
    "# prediction vs test data\n",
    "plt.scatter(X_test, y_test, color='gray')\n",
    "plt.plot(X_test, y_pred, color='red', linewidth=2)\n",
    "plt.show()"
   ]
  },
  {
   "cell_type": "code",
   "execution_count": 20,
   "metadata": {},
   "outputs": [
    {
     "name": "stdout",
     "output_type": "stream",
     "text": [
      "Mean Absolute Error: 4.780853449192798\n",
      "Mean Squared Error: 43.258825763302085\n",
      "Root Mean Squared Error: 6.577144195112502\n"
     ]
    }
   ],
   "source": [
    "# Evaluation:\n",
    "print('Mean Absolute Error:', metrics.mean_absolute_error(y_test, y_pred))  \n",
    "print('Mean Squared Error:', metrics.mean_squared_error(y_test, y_pred))  \n",
    "print('Root Mean Squared Error:', np.sqrt(metrics.mean_squared_error(y_test, y_pred)))"
   ]
  }
 ],
 "metadata": {
  "kernelspec": {
   "display_name": "py3",
   "language": "python",
   "name": "py3"
  },
  "language_info": {
   "codemirror_mode": {
    "name": "ipython",
    "version": 3
   },
   "file_extension": ".py",
   "mimetype": "text/x-python",
   "name": "python",
   "nbconvert_exporter": "python",
   "pygments_lexer": "ipython3",
   "version": "3.7.3"
  }
 },
 "nbformat": 4,
 "nbformat_minor": 2
}
